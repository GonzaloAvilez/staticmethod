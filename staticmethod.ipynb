{
 "cells": [
  {
   "cell_type": "code",
   "execution_count": null,
   "metadata": {},
   "outputs": [],
   "source": [
    "# class Dog(object):\n",
    "    #classes variables\n",
    "    count = 0\n",
    "    dogs = []\n",
    "    \n",
    "    def __init__(self, name):\n",
    "        # at every class instance\n",
    "        self.name = name\n",
    "        Dog.count += 1\n",
    "        Dog.dogs.append(name)\n",
    "        \n",
    "        \n",
    "    def bark(self, n):\n",
    "        print('{} says: {}'.format(self.name, \"woof!,\" * n))\n",
    "        \n",
    "    @staticmethod\n",
    "    def rollCall():\n",
    "        print('There are {} dogs'.format(Dog.count))\n",
    "        for dog in Dog.dogs:\n",
    "            print (' {}'.format(dog))\n",
    "            \n",
    "fido = Dog('Fido')\n",
    "fido.bark(3)\n",
    "Dog.rollCall()\n",
    "max = Dog('Max')\n",
    "Dog.rollCall()\n",
    "\n",
    "\n"
   ]
  },
  {
   "cell_type": "code",
   "execution_count": null,
   "metadata": {},
   "outputs": [],
   "source": []
  },
  {
   "cell_type": "code",
   "execution_count": null,
   "metadata": {},
   "outputs": [],
   "source": []
  },
  {
   "cell_type": "code",
   "execution_count": null,
   "metadata": {},
   "outputs": [],
   "source": []
  }
 ],
 "metadata": {
  "kernelspec": {
   "display_name": "Python 3",
   "language": "python",
   "name": "python3"
  },
  "language_info": {
   "codemirror_mode": {
    "name": "ipython",
    "version": 3
   },
   "file_extension": ".py",
   "mimetype": "text/x-python",
   "name": "python",
   "nbconvert_exporter": "python",
   "pygments_lexer": "ipython3",
   "version": "3.6.5"
  }
 },
 "nbformat": 4,
 "nbformat_minor": 2
}
